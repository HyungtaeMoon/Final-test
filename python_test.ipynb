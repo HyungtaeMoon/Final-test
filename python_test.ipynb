{
 "cells": [
  {
   "cell_type": "markdown",
   "metadata": {},
   "source": [
    "### 1. 다음 리스트를 사용해 아래와 같은 문자열을 만들어 `girlsday_info`변수에 할당한 후, 콘솔에 내용을 출력하시오. [5점]"
   ]
  },
  {
   "cell_type": "code",
   "execution_count": 3,
   "metadata": {},
   "outputs": [],
   "source": [
    "girls_members = ['민아', '혜리', '유라', '소진']"
   ]
  },
  {
   "cell_type": "code",
   "execution_count": 4,
   "metadata": {},
   "outputs": [
    {
     "name": "stdout",
     "output_type": "stream",
     "text": [
      "- 민아\n",
      "- 혜리\n",
      "- 유라\n",
      "- 소진\n",
      "\n"
     ]
    }
   ],
   "source": [
    "girlsday_info = ''\n",
    "for i in girls_members:\n",
    "    girlsday_info += f'- {i}\\n'\n",
    "print(girlsday_info)"
   ]
  },
  {
   "cell_type": "code",
   "execution_count": 5,
   "metadata": {},
   "outputs": [
    {
     "name": "stdout",
     "output_type": "stream",
     "text": [
      "- 민아\n",
      "- 혜리\n",
      "- 유라\n",
      "- 소진\n"
     ]
    }
   ],
   "source": [
    "girlsday_info = ''\n",
    "for girlsday_info in girls_members:\n",
    "    print(f'- {girlsday_info}')"
   ]
  },
  {
   "cell_type": "markdown",
   "metadata": {},
   "source": [
    "### ====================================================="
   ]
  },
  {
   "cell_type": "markdown",
   "metadata": {},
   "source": [
    "\n",
    "### 2. `fruit_dict`객체를 사용해서 아래와 같은 결과값을 갖는 문자열을 만들어 `fruit_info`변수에 할당 한 후, 콘솔에 내용을 출력하시오. [10점]\n",
    "\n",
    "결과 문자열\n",
    "\n",
    "```\n",
    "[0] RED: Apple\n",
    "[1] YELLOW: Banana\n",
    "[2] GREEN: Melon\n",
    "\n",
    "# 어렵다면 아래 형태를 만든다\n",
    "\n",
    "red: apple\n",
    "yellow: banana\n",
    "green: melon\n",
    "```"
   ]
  },
  {
   "cell_type": "code",
   "execution_count": 6,
   "metadata": {},
   "outputs": [],
   "source": [
    "fruit_dict = {\n",
    "    'red':'apple',\n",
    "    'yellow':'banana',\n",
    "    'green':'melon',\n",
    "}"
   ]
  },
  {
   "cell_type": "code",
   "execution_count": 7,
   "metadata": {},
   "outputs": [
    {
     "name": "stdout",
     "output_type": "stream",
     "text": [
      "[0] RED apple\n",
      "[1] YELLOW banana\n",
      "[2] GREEN melon\n"
     ]
    }
   ],
   "source": [
    "fruit_info = ''\n",
    "for i, (k, v) in enumerate(fruit_dict.items()):\n",
    "    fruit_info = i, k, v\n",
    "    key = k.upper()\n",
    "#     value = v[0].upper()\n",
    "    print(f'[{i}] {key} {v}')"
   ]
  },
  {
   "cell_type": "markdown",
   "metadata": {},
   "source": [
    "### ====================================================="
   ]
  },
  {
   "cell_type": "markdown",
   "metadata": {},
   "source": [
    "### 3. list의 `copy()`메서드가 하는 일과, `copy()`를 사용하지 않았을 때 발생할 수 있는 오류에 대한 예제 코드를 작성하시오. [10점]\n",
    "\n",
    "- `copy()`메서드의 설명이 틀렸을 경우: -4"
   ]
  },
  {
   "cell_type": "code",
   "execution_count": 8,
   "metadata": {},
   "outputs": [
    {
     "name": "stdout",
     "output_type": "stream",
     "text": [
      "139721553909768\n",
      "139721553909768\n",
      "139721604482440\n"
     ]
    }
   ],
   "source": [
    "ori = [1, 2, 3, 4, 5]\n",
    "val = ori\n",
    "copy_method = ori.copy()\n",
    "\n",
    "print(id(ori))\n",
    "print(id(val))\n",
    "print(id(copy_method))"
   ]
  },
  {
   "cell_type": "code",
   "execution_count": 9,
   "metadata": {},
   "outputs": [
    {
     "name": "stdout",
     "output_type": "stream",
     "text": [
      "True\n",
      "변수명=변수값 할당 Bool : True\n",
      "Copy() 메서드를 사용하는 경우 : False\n"
     ]
    }
   ],
   "source": [
    "print(ori == copy_method)\n",
    "\n",
    "print(f'변수명=변수값 할당 Bool : {ori is val}')\n",
    "print(f'Copy() 메서드를 사용하는 경우 : {ori is copy_method}')"
   ]
  },
  {
   "cell_type": "code",
   "execution_count": 10,
   "metadata": {},
   "outputs": [
    {
     "name": "stdout",
     "output_type": "stream",
     "text": [
      "[1, 2, 3, 4, 5, 6]\n",
      "[1, 2, 3, 4, 5, 6]\n",
      "[1, 2, 3, 4, 5]\n"
     ]
    }
   ],
   "source": [
    "# append를 사용하여 변수할당, copy메서드의 변화 비교\n",
    "ori.append(6)\n",
    "print(ori)\n",
    "print(val)\n",
    "print(copy_method)"
   ]
  },
  {
   "cell_type": "markdown",
   "metadata": {},
   "source": [
    "### <풀이>\n",
    "\n",
    "가장 맨 위에 코드에서 보면 확인할 수 있듯이 `copy() 메서드`를 사용하면 원래값과는 `다른 ID값`을 가지고 있음을 확인할 수 있습니다.\n",
    "\n",
    "즉, `메모리 구조 상에서 오리지널과는 다른 위치를 가리키고 있으며` 원래값이 바뀌더라도 copy()메서드의 값은 다른 메모리 공간을 가리키고 있기 때문에 그 copy()메서드의 값은 바뀌지 않습니다."
   ]
  },
  {
   "cell_type": "markdown",
   "metadata": {},
   "source": [
    "### ====================================================="
   ]
  },
  {
   "cell_type": "markdown",
   "metadata": {},
   "source": [
    "### 4. 1에서 30까지의 숫자 중, 3부터 시작해서 4번째마다의 숫자를 가지는 리스트를 생성하시오. [5점]\n",
    "- 기본점수: 3점\n",
    "- `range`를 사용한 경우: +2\n",
    "\n",
    "결과\n",
    "\n",
    "```\n",
    "[3, 7, 11, 15, 19, 23, 27]\n",
    "```"
   ]
  },
  {
   "cell_type": "code",
   "execution_count": 12,
   "metadata": {},
   "outputs": [
    {
     "name": "stdout",
     "output_type": "stream",
     "text": [
      "[3, 7, 11, 15, 19, 23, 27]\n"
     ]
    }
   ],
   "source": [
    "result = []\n",
    "for i in range(3, 30+1, 4):\n",
    "    result.append(i)\n",
    "    \n",
    "print(result)"
   ]
  },
  {
   "cell_type": "markdown",
   "metadata": {},
   "source": [
    "### ====================================================="
   ]
  },
  {
   "cell_type": "markdown",
   "metadata": {},
   "source": [
    "### 5. dict형 객체인 `obj`가 있다고 할 때, `obj['key']`와 `obj.get('key')`의 차이를 서술하시오. [5점]"
   ]
  },
  {
   "cell_type": "code",
   "execution_count": 13,
   "metadata": {},
   "outputs": [],
   "source": [
    "dict = {\n",
    "    '이름':'문형태',\n",
    "    '나이':20,\n",
    "    '사는곳':'서울',\n",
    "}"
   ]
  },
  {
   "cell_type": "code",
   "execution_count": 15,
   "metadata": {},
   "outputs": [
    {
     "name": "stdout",
     "output_type": "stream",
     "text": [
      "문형태\n",
      "문형태\n"
     ]
    }
   ],
   "source": [
    "print(dict['이름'])\n",
    "print(dict.get('이름'))"
   ]
  },
  {
   "cell_type": "code",
   "execution_count": 16,
   "metadata": {},
   "outputs": [
    {
     "ename": "KeyError",
     "evalue": "'아름'",
     "output_type": "error",
     "traceback": [
      "\u001b[0;31m---------------------------------------------------------------------------\u001b[0m",
      "\u001b[0;31mKeyError\u001b[0m                                  Traceback (most recent call last)",
      "\u001b[0;32m<ipython-input-16-1ae7bdf97ab2>\u001b[0m in \u001b[0;36m<module>\u001b[0;34m()\u001b[0m\n\u001b[0;32m----> 1\u001b[0;31m \u001b[0mprint\u001b[0m\u001b[0;34m(\u001b[0m\u001b[0mdict\u001b[0m\u001b[0;34m[\u001b[0m\u001b[0;34m'아름'\u001b[0m\u001b[0;34m]\u001b[0m\u001b[0;34m)\u001b[0m\u001b[0;34m\u001b[0m\u001b[0m\n\u001b[0m",
      "\u001b[0;31mKeyError\u001b[0m: '아름'"
     ]
    }
   ],
   "source": [
    "print(dict['아름'])"
   ]
  },
  {
   "cell_type": "code",
   "execution_count": 17,
   "metadata": {},
   "outputs": [
    {
     "name": "stdout",
     "output_type": "stream",
     "text": [
      "None\n"
     ]
    }
   ],
   "source": [
    "print(dict.get('아름'))"
   ]
  },
  {
   "cell_type": "markdown",
   "metadata": {},
   "source": [
    "### <풀이>\n",
    "\n",
    "**obj['key']** 는 호출하려는 key값이 없을 경우에는 위와 같이 `KeyError` 가 발생하는 것을 확인했습니다.\n",
    "\n",
    "그러나 **obj.get('key')** 함수를 사용하면 '호출한 값에는 아무것도 없어!' 라는 `None값`을 출력하게 됩니다."
   ]
  },
  {
   "cell_type": "markdown",
   "metadata": {},
   "source": [
    "### ====================================================="
   ]
  },
  {
   "cell_type": "markdown",
   "metadata": {},
   "source": [
    "### 6. 튜플 언패킹에 대해 서술하고, `pokemon_info` 객체를 순회할 때 튜플 언패킹을 사용하는 예제 코드를 작성하시오. [10점]\n",
    "\n",
    "- 틀린서술: -3\n",
    "- 예제코드 미작성: -7\n"
   ]
  },
  {
   "cell_type": "code",
   "execution_count": 19,
   "metadata": {},
   "outputs": [],
   "source": [
    "pokemon_info = [\n",
    "    ('피카츄', '전기 타입'),\n",
    "    ('파이리', '불 타입'),\n",
    "    ('꼬부기', '물 타입'),\n",
    "    ('이상해씨', '풀 타입'),\n",
    "]"
   ]
  },
  {
   "cell_type": "code",
   "execution_count": 20,
   "metadata": {},
   "outputs": [],
   "source": [
    "pika, pyri, turtle, strange = pokemon_info"
   ]
  },
  {
   "cell_type": "code",
   "execution_count": 21,
   "metadata": {},
   "outputs": [
    {
     "name": "stdout",
     "output_type": "stream",
     "text": [
      "<class 'tuple'>\n",
      "('피카츄', '전기 타입')\n"
     ]
    }
   ],
   "source": [
    "print(type(pika))\n",
    "print(pika)"
   ]
  },
  {
   "cell_type": "markdown",
   "metadata": {},
   "source": [
    "### <풀이>\n",
    "얼핏보면 딕셔너리로 착각했을 수도 있지만 리스트[(튜플1, 튜플2, 튜플3)]의 형식임을 확인할 수 있습니다. 언패킹은 패킹되어진 튜플들을 각각의 변수에 할당하는 것을 말하며, \n",
    "\n",
    "A, B, C = group(A, B, C)\n",
    "\n",
    "위치인자의 형태로 각각 할당되는 것을 볼 수 있습니다."
   ]
  },
  {
   "cell_type": "markdown",
   "metadata": {},
   "source": [
    "### ====================================================="
   ]
  },
  {
   "cell_type": "markdown",
   "metadata": {},
   "source": [
    "### 7. 함수에서 위치인자와 키워드인자의 차이점에 대해 서술하시오. [5점]"
   ]
  },
  {
   "cell_type": "markdown",
   "metadata": {},
   "source": [
    "### <풀이>\n",
    "\n",
    "함수에서 위치인자는 순서대로 호출되는 것을 말하고,\n",
    "키워드 인자는 지정한 키워드로 호출되는 것을 말합니다.\n",
    "\n",
    "호출하려는 인자가 많지 않을 경우에는 키워드 인자가 가독성이 좋고\n",
    "호출하는 인자가 많을 경우에는 위치인자가 관리하기 편할 것 같다는게 저의 생각입니다."
   ]
  },
  {
   "cell_type": "markdown",
   "metadata": {},
   "source": [
    "### ====================================================="
   ]
  },
  {
   "cell_type": "markdown",
   "metadata": {},
   "source": [
    "### 8. 클래스와 인스턴스의 다음 사항들에 대해 서술하시오.\n",
    "\n",
    "- 클래스와 인스턴스의 차이점 [2점]\n",
    "- 클래스의 생성자 함수 이름 [1점]\n",
    "- 클래스의 생성자 함수가 호출되는 시점은? [2점]\n",
    "- 인스턴스 메서드의 `self`매개변수의 의미 [4점]"
   ]
  },
  {
   "cell_type": "markdown",
   "metadata": {},
   "source": [
    "#### <풀이>\n",
    "\n",
    "- 작성한 클래스를 실체화 하는 것이 인스턴스이다.\n",
    "- __init__\n",
    "- 인스턴스 = 클래스명(인자 또는 인자들)을 호출할 때\n",
    "- self는 객체의 인스턴스 그 자체를 말합니다."
   ]
  },
  {
   "cell_type": "markdown",
   "metadata": {},
   "source": [
    "### ====================================================="
   ]
  },
  {
   "cell_type": "markdown",
   "metadata": {},
   "source": [
    "### 9. `property`를 정의하는 방법에 대해 서술하시오. [5점]\n",
    "\n",
    "- `getter`를 만드는 방법에 대해 서술: 2점\n",
    "- `setter`를 만드는 방법에 대해 서술: 3점"
   ]
  },
  {
   "cell_type": "markdown",
   "metadata": {},
   "source": [
    "#### <풀이>\n",
    "\n",
    "property는 protected 속성을 가지고 있고 외부에서의 접근을 막기 위해 사용합니다. \n",
    "\n",
    "setter을 사용해서 변경 또는 수정이 가능한데, 만약 setter이 없으면 getter은 읽기 모드로만 사용할 수 밖에 없습니다."
   ]
  },
  {
   "cell_type": "markdown",
   "metadata": {},
   "source": [
    "### ====================================================="
   ]
  },
  {
   "cell_type": "markdown",
   "metadata": {},
   "source": [
    "\n",
    "### 10. 아래와 같은 `User`클래스가 있다. 이 클래스를 상속받은 `Student`클래스를 정의하고, 초기화 메서드에서 `name`과 함께`age`라는 매개변수를 추가로 사용해 인스턴스의 `age`속성을 추가로 정의하도록 한다. [10점]\n",
    "\n",
    "- (기본구현) User클래스를 상속: 1\n",
    "- 초기화 메서드 재정의: +3\n",
    "- 초기화 메서드에서 `super`사용: +6\n",
    "\n",
    "```\n",
    "class User:\n",
    "    def __init__(self, name):\n",
    "        self.name = name\n",
    "```"
   ]
  },
  {
   "cell_type": "code",
   "execution_count": 22,
   "metadata": {},
   "outputs": [],
   "source": [
    "class User:\n",
    "    def __init__(self, name):\n",
    "        self.name = name\n",
    "        \n",
    "class Student(User):\n",
    "    def __init__(self, name, age):\n",
    "        super().__init__(name)\n",
    "        self.age = age"
   ]
  },
  {
   "cell_type": "code",
   "execution_count": 23,
   "metadata": {},
   "outputs": [],
   "source": [
    "Chris = Student('문형태', '20')"
   ]
  },
  {
   "cell_type": "code",
   "execution_count": 25,
   "metadata": {},
   "outputs": [
    {
     "data": {
      "text/plain": [
       "'문형태'"
      ]
     },
     "execution_count": 25,
     "metadata": {},
     "output_type": "execute_result"
    }
   ],
   "source": [
    "Chris.name"
   ]
  }
 ],
 "metadata": {
  "kernelspec": {
   "display_name": "Python 3",
   "language": "python",
   "name": "python3"
  },
  "language_info": {
   "codemirror_mode": {
    "name": "ipython",
    "version": 3
   },
   "file_extension": ".py",
   "mimetype": "text/x-python",
   "name": "python",
   "nbconvert_exporter": "python",
   "pygments_lexer": "ipython3",
   "version": "3.6.5"
  }
 },
 "nbformat": 4,
 "nbformat_minor": 2
}
