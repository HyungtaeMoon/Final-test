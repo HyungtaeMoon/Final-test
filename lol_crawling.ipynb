{
 "cells": [
  {
   "cell_type": "markdown",
   "metadata": {},
   "source": [
    "#### 크롤링 과제"
   ]
  },
  {
   "cell_type": "code",
   "execution_count": 1,
   "metadata": {},
   "outputs": [],
   "source": [
    "class Notice:\n",
    "    def __init__(self, title, date, view):\n",
    "        self.title = title\n",
    "        self.date = date\n",
    "        self.view = view\n",
    "        \n",
    "    def __str__(self):\n",
    "        return f'{self.title} {self.date} {self.view}'\n",
    "        \n"
   ]
  },
  {
   "cell_type": "code",
   "execution_count": 2,
   "metadata": {},
   "outputs": [],
   "source": [
    "import os\n",
    "import requests\n",
    "from bs4 import BeautifulSoup\n",
    "\n",
    "file_path = 'notice_list.html'\n",
    "\n",
    "lol_url = 'http://www.leagueoflegends.co.kr/?m=news&cate=notice'\n",
    "\n",
    "if os.path.exists(file_path):\n",
    "    html = open(file_path, 'rt').read()\n",
    "    \n",
    "else:\n",
    "    response = requests.get(lol_url)\n",
    "    response_text = response.text\n",
    "    \n",
    "    html = open(file_path, 'wt').write(response_text)\n",
    "    \n",
    "\n",
    "soup = BeautifulSoup(html, 'lxml')\n",
    "\n",
    "\n",
    "request_list = soup.select('tbody > tr')\n",
    "notice_object = []\n",
    "for notice_list in request_list:\n",
    "    title = notice_list.select_one('td.tleft > a').get_text()\n",
    "    date = notice_list.select_one('td:nth-of-type(2)').get_text()\n",
    "    view = notice_list.select_one('td:nth-of-type(3)').get_text()\n",
    "    notice_object.append(Notice(title = title, date =date, view= view))\n"
   ]
  },
  {
   "cell_type": "code",
   "execution_count": 3,
   "metadata": {},
   "outputs": [
    {
     "name": "stdout",
     "output_type": "stream",
     "text": [
      "입롤의 신 - 파이크편 감상평 이벤트 당첨자 안내 2018-06-14 1,111\n",
      "6월 15일 (금) Toss 결제 서비스 점검 안내 2018-06-14 679\n",
      "인형 30% 할인 프로모션 2018-06-13 8,713\n",
      "6월 13일(수) 서버 점검 및 업데이트 안내 (완료) 2018-06-12 24,060\n",
      "대리 게임 등 적발 현황 263차 안내 2018-06-08 6,910\n",
      "부정행위 프로그램 제재 현황 안내 2018-06-08 2,786\n",
      "6월 2차 소환사 문화재지킴이 모집 안내 2018-06-08 3,401\n",
      "일부 클라이언트 오류 현상에 대한 안내 (정상화) 2018-06-06 10,482\n",
      "6월 6일(수) 서버 점검 안내 (완료) 2018-06-05 40,919\n",
      "PBE 인사이드 20화(8.12 패치 편) 방송 안내 2018-06-04 9,870\n"
     ]
    }
   ],
   "source": [
    "for i in notice_object:\n",
    "    print(i)"
   ]
  },
  {
   "cell_type": "code",
   "execution_count": null,
   "metadata": {},
   "outputs": [],
   "source": []
  }
 ],
 "metadata": {
  "kernelspec": {
   "display_name": "Python 3",
   "language": "python",
   "name": "python3"
  },
  "language_info": {
   "codemirror_mode": {
    "name": "ipython",
    "version": 3
   },
   "file_extension": ".py",
   "mimetype": "text/x-python",
   "name": "python",
   "nbconvert_exporter": "python",
   "pygments_lexer": "ipython3",
   "version": "3.6.5"
  }
 },
 "nbformat": 4,
 "nbformat_minor": 2
}
